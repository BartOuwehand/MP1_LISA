{
 "cells": [
  {
   "cell_type": "code",
   "execution_count": 1,
   "id": "4d781c57-f24f-4eb4-9153-f42f98c8082c",
   "metadata": {},
   "outputs": [],
   "source": [
    "import numpy as np\n",
    "import matplotlib.pyplot as plt\n",
    "%matplotlib inline\n",
    "\n",
    "import h5py\n",
    "import scipy.signal\n",
    "import logging\n",
    "import time\n",
    "\n",
    "from lisagwresponse import GalacticBinary\n",
    "from lisainstrument import Instrument\n",
    "\n",
    "from pytdi import Data\n",
    "from pytdi import michelson as mich\n",
    "from pytdi import ortho\n",
    "\n",
    "from astropy.io import ascii\n",
    "from astropy.table import Table, Column, MaskedColumn\n",
    "from astropy import units as u\n",
    "from astropy.coordinates import SkyCoord\n",
    "from astropy.coordinates import BarycentricMeanEcliptic\n",
    "\n",
    "import multiprocess\n",
    "\n",
    "import os"
   ]
  },
  {
   "cell_type": "code",
   "execution_count": 3,
   "id": "8ac6a195-6cf0-4ceb-a566-6c1e080d77e8",
   "metadata": {},
   "outputs": [
    {
     "name": "stdout",
     "output_type": "stream",
     "text": [
      "fs = 0.05 Hz,  orbit_duration = 1500.0 d\n"
     ]
    }
   ],
   "source": [
    "# orbit_path = '../orbits/keplerianupsampled.h5'\n",
    "# orbit_path = '../orbits/kep-1hz30d.h5'\n",
    "orbit_path = '../orbits/keplerian_long.h5'\n",
    "gw_path = 'test3.h5'\n",
    "\n",
    "# Setup simluation parameters\n",
    "fs = 0.05    # Hz\n",
    "# fs = 0.1\n",
    "day = 86400 # s\n",
    "duration = day*30 # X days\n",
    "size = duration*fs\n",
    "discard = 300\n",
    "\n",
    "rec = ['A','E','T']\n",
    "\n",
    "with h5py.File(orbit_path) as orbits:\n",
    "    orbits_t0 = orbits.attrs['t0']\n",
    "    orbit_fs = 1/orbits.attrs['dt']\n",
    "    orbit_dur = orbits.attrs['tsize']/orbit_fs\n",
    "    print (\"fs = \"+str(fs)+\" Hz,  orbit_duration = \"+str(orbit_dur/day)+\" d\")\n",
    "\n",
    "\n",
    "# Turn on/off binary creation & instrument simulation\n",
    "# use_verbinaries = True\n",
    "# gen_new_gws = False\n",
    "# run_new_simulation = True\n",
    "\n",
    "# Specify specific number of binaries\n",
    "# Ngalbins = 16"
   ]
  },
  {
   "cell_type": "code",
   "execution_count": 4,
   "id": "bc080f6d-f7da-4214-8f68-1f0cbaac37f3",
   "metadata": {},
   "outputs": [],
   "source": [
    "# Define name of simulation uitput file\n",
    "sample_outputf = 'measurements/test4' #extention of .h5 or .txt added later\n",
    "\n",
    "\n",
    "Amp_true = 1e-20\n",
    "f_true = 6.22e-3\n",
    "\n",
    "phi0_true_forinst = 0\n",
    "phi0_true = -0.6258027408051742\n",
    "gw_beta_true = 0\n",
    "gw_lambda_true = 0"
   ]
  },
  {
   "cell_type": "code",
   "execution_count": 5,
   "id": "dcb2f95b-ebb8-443b-b1ef-76731ef75100",
   "metadata": {},
   "outputs": [],
   "source": [
    "if os.path.exists(gw_path):\n",
    "    os.remove(gw_path)\n",
    "\n",
    "source = GalacticBinary(A=Amp_true, f=f_true, phi0=phi0_true, orbits=orbit_path ,t0=orbits_t0 + 10, gw_beta=gw_beta_true, gw_lambda=gw_lambda_true, dt=1/fs, size=size+300)\n",
    "source.write(gw_path)"
   ]
  },
  {
   "cell_type": "code",
   "execution_count": 6,
   "id": "58368734-d339-4f53-8301-1f9fb5ec1bec",
   "metadata": {},
   "outputs": [
    {
     "ename": "KeyboardInterrupt",
     "evalue": "",
     "output_type": "error",
     "traceback": [
      "\u001b[0;31m---------------------------------------------------------------------------\u001b[0m",
      "\u001b[0;31mKeyboardInterrupt\u001b[0m                         Traceback (most recent call last)",
      "\u001b[0;32m/tmp/ipykernel_13090/361536989.py\u001b[0m in \u001b[0;36m<module>\u001b[0;34m\u001b[0m\n\u001b[1;32m     14\u001b[0m )\n\u001b[1;32m     15\u001b[0m \u001b[0;31m# sample_instru.disable_all_noises()\u001b[0m\u001b[0;34m\u001b[0m\u001b[0;34m\u001b[0m\u001b[0;34m\u001b[0m\u001b[0m\n\u001b[0;32m---> 16\u001b[0;31m \u001b[0msample_instru\u001b[0m\u001b[0;34m.\u001b[0m\u001b[0msimulate\u001b[0m\u001b[0;34m(\u001b[0m\u001b[0;34m)\u001b[0m\u001b[0;34m\u001b[0m\u001b[0;34m\u001b[0m\u001b[0m\n\u001b[0m\u001b[1;32m     17\u001b[0m \u001b[0;34m\u001b[0m\u001b[0m\n\u001b[1;32m     18\u001b[0m \u001b[0;34m\u001b[0m\u001b[0m\n",
      "\u001b[0;32m~/Desktop/lisa/venv-lisa/lib/python3.8/site-packages/lisainstrument/instrument.py\u001b[0m in \u001b[0;36msimulate\u001b[0;34m(self, keep_all)\u001b[0m\n\u001b[1;32m    999\u001b[0m \u001b[0;34m\u001b[0m\u001b[0m\n\u001b[1;32m   1000\u001b[0m         \u001b[0mlogger\u001b[0m\u001b[0;34m.\u001b[0m\u001b[0mdebug\u001b[0m\u001b[0;34m(\u001b[0m\u001b[0;34m\"Sampling reference carrier beatnote offsets to THE grid\"\u001b[0m\u001b[0;34m)\u001b[0m\u001b[0;34m\u001b[0m\u001b[0;34m\u001b[0m\u001b[0m\n\u001b[0;32m-> 1001\u001b[0;31m         self.the_ref_carrier_offsets = (\n\u001b[0m\u001b[1;32m   1002\u001b[0m             \u001b[0mself\u001b[0m\u001b[0;34m.\u001b[0m\u001b[0mtps_ref_carrier_offsets\u001b[0m \u001b[0;34m/\u001b[0m \u001b[0;34m(\u001b[0m\u001b[0;36m1\u001b[0m \u001b[0;34m+\u001b[0m \u001b[0mself\u001b[0m\u001b[0;34m.\u001b[0m\u001b[0mclock_noise_offsets\u001b[0m\u001b[0;34m)\u001b[0m\u001b[0;34m\u001b[0m\u001b[0;34m\u001b[0m\u001b[0m\n\u001b[1;32m   1003\u001b[0m         ).transformed(self.timestamped)\n",
      "\u001b[0;32m~/Desktop/lisa/venv-lisa/lib/python3.8/site-packages/lisainstrument/containers.py\u001b[0m in \u001b[0;36mtransformed\u001b[0;34m(self, transformation)\u001b[0m\n\u001b[1;32m     47\u001b[0m             \u001b[0mtransformation\u001b[0m\u001b[0;34m:\u001b[0m \u001b[0mfunction\u001b[0m \u001b[0;34m(\u001b[0m\u001b[0mmosa\u001b[0m\u001b[0;34m,\u001b[0m \u001b[0mvalue\u001b[0m \u001b[0;34m->\u001b[0m \u001b[0mnew_value\u001b[0m\u001b[0;34m)\u001b[0m\u001b[0;34m\u001b[0m\u001b[0;34m\u001b[0m\u001b[0m\n\u001b[1;32m     48\u001b[0m         \"\"\"\n\u001b[0;32m---> 49\u001b[0;31m         \u001b[0;32mreturn\u001b[0m \u001b[0mself\u001b[0m\u001b[0;34m.\u001b[0m\u001b[0m__class__\u001b[0m\u001b[0;34m(\u001b[0m\u001b[0;32mlambda\u001b[0m \u001b[0mmosa\u001b[0m\u001b[0;34m:\u001b[0m \u001b[0mtransformation\u001b[0m\u001b[0;34m(\u001b[0m\u001b[0mmosa\u001b[0m\u001b[0;34m,\u001b[0m \u001b[0mself\u001b[0m\u001b[0;34m[\u001b[0m\u001b[0mmosa\u001b[0m\u001b[0;34m]\u001b[0m\u001b[0;34m)\u001b[0m\u001b[0;34m)\u001b[0m\u001b[0;34m\u001b[0m\u001b[0;34m\u001b[0m\u001b[0m\n\u001b[0m\u001b[1;32m     50\u001b[0m \u001b[0;34m\u001b[0m\u001b[0m\n\u001b[1;32m     51\u001b[0m     \u001b[0;32mdef\u001b[0m \u001b[0mcollapsed\u001b[0m\u001b[0;34m(\u001b[0m\u001b[0mself\u001b[0m\u001b[0;34m)\u001b[0m\u001b[0;34m:\u001b[0m\u001b[0;34m\u001b[0m\u001b[0;34m\u001b[0m\u001b[0m\n",
      "\u001b[0;32m~/Desktop/lisa/venv-lisa/lib/python3.8/site-packages/lisainstrument/containers.py\u001b[0m in \u001b[0;36m__init__\u001b[0;34m(self, values)\u001b[0m\n\u001b[1;32m     29\u001b[0m             \u001b[0mself\u001b[0m\u001b[0;34m.\u001b[0m\u001b[0mdict\u001b[0m \u001b[0;34m=\u001b[0m \u001b[0;34m{\u001b[0m\u001b[0mmosa\u001b[0m\u001b[0;34m:\u001b[0m \u001b[0mvalues\u001b[0m\u001b[0;34m[\u001b[0m\u001b[0mmosa\u001b[0m\u001b[0;34m]\u001b[0m \u001b[0;32mfor\u001b[0m \u001b[0mmosa\u001b[0m \u001b[0;32min\u001b[0m \u001b[0mself\u001b[0m\u001b[0;34m.\u001b[0m\u001b[0mindices\u001b[0m\u001b[0;34m(\u001b[0m\u001b[0;34m)\u001b[0m\u001b[0;34m}\u001b[0m\u001b[0;34m\u001b[0m\u001b[0;34m\u001b[0m\u001b[0m\n\u001b[1;32m     30\u001b[0m         \u001b[0;32melif\u001b[0m \u001b[0mcallable\u001b[0m\u001b[0;34m(\u001b[0m\u001b[0mvalues\u001b[0m\u001b[0;34m)\u001b[0m\u001b[0;34m:\u001b[0m\u001b[0;34m\u001b[0m\u001b[0;34m\u001b[0m\u001b[0m\n\u001b[0;32m---> 31\u001b[0;31m             \u001b[0mself\u001b[0m\u001b[0;34m.\u001b[0m\u001b[0mdict\u001b[0m \u001b[0;34m=\u001b[0m \u001b[0;34m{\u001b[0m\u001b[0mmosa\u001b[0m\u001b[0;34m:\u001b[0m \u001b[0mvalues\u001b[0m\u001b[0;34m(\u001b[0m\u001b[0mmosa\u001b[0m\u001b[0;34m)\u001b[0m \u001b[0;32mfor\u001b[0m \u001b[0mmosa\u001b[0m \u001b[0;32min\u001b[0m \u001b[0mself\u001b[0m\u001b[0;34m.\u001b[0m\u001b[0mindices\u001b[0m\u001b[0;34m(\u001b[0m\u001b[0;34m)\u001b[0m\u001b[0;34m}\u001b[0m\u001b[0;34m\u001b[0m\u001b[0;34m\u001b[0m\u001b[0m\n\u001b[0m\u001b[1;32m     32\u001b[0m         \u001b[0;32melif\u001b[0m \u001b[0misinstance\u001b[0m\u001b[0;34m(\u001b[0m\u001b[0mvalues\u001b[0m\u001b[0;34m,\u001b[0m \u001b[0mh5py\u001b[0m\u001b[0;34m.\u001b[0m\u001b[0mDataset\u001b[0m\u001b[0;34m)\u001b[0m\u001b[0;34m:\u001b[0m\u001b[0;34m\u001b[0m\u001b[0;34m\u001b[0m\u001b[0m\n\u001b[1;32m     33\u001b[0m             \u001b[0mself\u001b[0m\u001b[0;34m.\u001b[0m\u001b[0mdict\u001b[0m \u001b[0;34m=\u001b[0m \u001b[0;34m{\u001b[0m\u001b[0mmosa\u001b[0m\u001b[0;34m:\u001b[0m \u001b[0mvalues\u001b[0m\u001b[0;34m[\u001b[0m\u001b[0mmosa\u001b[0m\u001b[0;34m]\u001b[0m \u001b[0;32mfor\u001b[0m \u001b[0mmosa\u001b[0m \u001b[0;32min\u001b[0m \u001b[0mself\u001b[0m\u001b[0;34m.\u001b[0m\u001b[0mindices\u001b[0m\u001b[0;34m(\u001b[0m\u001b[0;34m)\u001b[0m\u001b[0;34m}\u001b[0m\u001b[0;34m\u001b[0m\u001b[0;34m\u001b[0m\u001b[0m\n",
      "\u001b[0;32m~/Desktop/lisa/venv-lisa/lib/python3.8/site-packages/lisainstrument/containers.py\u001b[0m in \u001b[0;36m<dictcomp>\u001b[0;34m(.0)\u001b[0m\n\u001b[1;32m     29\u001b[0m             \u001b[0mself\u001b[0m\u001b[0;34m.\u001b[0m\u001b[0mdict\u001b[0m \u001b[0;34m=\u001b[0m \u001b[0;34m{\u001b[0m\u001b[0mmosa\u001b[0m\u001b[0;34m:\u001b[0m \u001b[0mvalues\u001b[0m\u001b[0;34m[\u001b[0m\u001b[0mmosa\u001b[0m\u001b[0;34m]\u001b[0m \u001b[0;32mfor\u001b[0m \u001b[0mmosa\u001b[0m \u001b[0;32min\u001b[0m \u001b[0mself\u001b[0m\u001b[0;34m.\u001b[0m\u001b[0mindices\u001b[0m\u001b[0;34m(\u001b[0m\u001b[0;34m)\u001b[0m\u001b[0;34m}\u001b[0m\u001b[0;34m\u001b[0m\u001b[0;34m\u001b[0m\u001b[0m\n\u001b[1;32m     30\u001b[0m         \u001b[0;32melif\u001b[0m \u001b[0mcallable\u001b[0m\u001b[0;34m(\u001b[0m\u001b[0mvalues\u001b[0m\u001b[0;34m)\u001b[0m\u001b[0;34m:\u001b[0m\u001b[0;34m\u001b[0m\u001b[0;34m\u001b[0m\u001b[0m\n\u001b[0;32m---> 31\u001b[0;31m             \u001b[0mself\u001b[0m\u001b[0;34m.\u001b[0m\u001b[0mdict\u001b[0m \u001b[0;34m=\u001b[0m \u001b[0;34m{\u001b[0m\u001b[0mmosa\u001b[0m\u001b[0;34m:\u001b[0m \u001b[0mvalues\u001b[0m\u001b[0;34m(\u001b[0m\u001b[0mmosa\u001b[0m\u001b[0;34m)\u001b[0m \u001b[0;32mfor\u001b[0m \u001b[0mmosa\u001b[0m \u001b[0;32min\u001b[0m \u001b[0mself\u001b[0m\u001b[0;34m.\u001b[0m\u001b[0mindices\u001b[0m\u001b[0;34m(\u001b[0m\u001b[0;34m)\u001b[0m\u001b[0;34m}\u001b[0m\u001b[0;34m\u001b[0m\u001b[0;34m\u001b[0m\u001b[0m\n\u001b[0m\u001b[1;32m     32\u001b[0m         \u001b[0;32melif\u001b[0m \u001b[0misinstance\u001b[0m\u001b[0;34m(\u001b[0m\u001b[0mvalues\u001b[0m\u001b[0;34m,\u001b[0m \u001b[0mh5py\u001b[0m\u001b[0;34m.\u001b[0m\u001b[0mDataset\u001b[0m\u001b[0;34m)\u001b[0m\u001b[0;34m:\u001b[0m\u001b[0;34m\u001b[0m\u001b[0;34m\u001b[0m\u001b[0m\n\u001b[1;32m     33\u001b[0m             \u001b[0mself\u001b[0m\u001b[0;34m.\u001b[0m\u001b[0mdict\u001b[0m \u001b[0;34m=\u001b[0m \u001b[0;34m{\u001b[0m\u001b[0mmosa\u001b[0m\u001b[0;34m:\u001b[0m \u001b[0mvalues\u001b[0m\u001b[0;34m[\u001b[0m\u001b[0mmosa\u001b[0m\u001b[0;34m]\u001b[0m \u001b[0;32mfor\u001b[0m \u001b[0mmosa\u001b[0m \u001b[0;32min\u001b[0m \u001b[0mself\u001b[0m\u001b[0;34m.\u001b[0m\u001b[0mindices\u001b[0m\u001b[0;34m(\u001b[0m\u001b[0;34m)\u001b[0m\u001b[0;34m}\u001b[0m\u001b[0;34m\u001b[0m\u001b[0;34m\u001b[0m\u001b[0m\n",
      "\u001b[0;32m~/Desktop/lisa/venv-lisa/lib/python3.8/site-packages/lisainstrument/containers.py\u001b[0m in \u001b[0;36m<lambda>\u001b[0;34m(mosa)\u001b[0m\n\u001b[1;32m     47\u001b[0m             \u001b[0mtransformation\u001b[0m\u001b[0;34m:\u001b[0m \u001b[0mfunction\u001b[0m \u001b[0;34m(\u001b[0m\u001b[0mmosa\u001b[0m\u001b[0;34m,\u001b[0m \u001b[0mvalue\u001b[0m \u001b[0;34m->\u001b[0m \u001b[0mnew_value\u001b[0m\u001b[0;34m)\u001b[0m\u001b[0;34m\u001b[0m\u001b[0;34m\u001b[0m\u001b[0m\n\u001b[1;32m     48\u001b[0m         \"\"\"\n\u001b[0;32m---> 49\u001b[0;31m         \u001b[0;32mreturn\u001b[0m \u001b[0mself\u001b[0m\u001b[0;34m.\u001b[0m\u001b[0m__class__\u001b[0m\u001b[0;34m(\u001b[0m\u001b[0;32mlambda\u001b[0m \u001b[0mmosa\u001b[0m\u001b[0;34m:\u001b[0m \u001b[0mtransformation\u001b[0m\u001b[0;34m(\u001b[0m\u001b[0mmosa\u001b[0m\u001b[0;34m,\u001b[0m \u001b[0mself\u001b[0m\u001b[0;34m[\u001b[0m\u001b[0mmosa\u001b[0m\u001b[0;34m]\u001b[0m\u001b[0;34m)\u001b[0m\u001b[0;34m)\u001b[0m\u001b[0;34m\u001b[0m\u001b[0;34m\u001b[0m\u001b[0m\n\u001b[0m\u001b[1;32m     50\u001b[0m \u001b[0;34m\u001b[0m\u001b[0m\n\u001b[1;32m     51\u001b[0m     \u001b[0;32mdef\u001b[0m \u001b[0mcollapsed\u001b[0m\u001b[0;34m(\u001b[0m\u001b[0mself\u001b[0m\u001b[0;34m)\u001b[0m\u001b[0;34m:\u001b[0m\u001b[0;34m\u001b[0m\u001b[0;34m\u001b[0m\u001b[0m\n",
      "\u001b[0;32m~/Desktop/lisa/venv-lisa/lib/python3.8/site-packages/lisainstrument/instrument.py\u001b[0m in \u001b[0;36m<lambda>\u001b[0;34m(mosa, x)\u001b[0m\n\u001b[1;32m    935\u001b[0m \u001b[0;34m\u001b[0m\u001b[0m\n\u001b[1;32m    936\u001b[0m         \u001b[0mself\u001b[0m\u001b[0;34m.\u001b[0m\u001b[0mtimestamped\u001b[0m \u001b[0;34m=\u001b[0m\u001b[0;31m \u001b[0m\u001b[0;31m\\\u001b[0m\u001b[0;34m\u001b[0m\u001b[0;34m\u001b[0m\u001b[0m\n\u001b[0;32m--> 937\u001b[0;31m             \u001b[0;32mlambda\u001b[0m \u001b[0mmosa\u001b[0m\u001b[0;34m,\u001b[0m \u001b[0mx\u001b[0m\u001b[0;34m:\u001b[0m \u001b[0mself\u001b[0m\u001b[0;34m.\u001b[0m\u001b[0minterpolate\u001b[0m\u001b[0;34m(\u001b[0m\u001b[0mx\u001b[0m\u001b[0;34m,\u001b[0m \u001b[0;34m-\u001b[0m\u001b[0mself\u001b[0m\u001b[0;34m.\u001b[0m\u001b[0minverse_timer_deviations\u001b[0m\u001b[0;34m.\u001b[0m\u001b[0mfor_each_mosa\u001b[0m\u001b[0;34m(\u001b[0m\u001b[0;34m)\u001b[0m\u001b[0;34m[\u001b[0m\u001b[0mmosa\u001b[0m\u001b[0;34m]\u001b[0m\u001b[0;34m)\u001b[0m\u001b[0;34m\u001b[0m\u001b[0;34m\u001b[0m\u001b[0m\n\u001b[0m\u001b[1;32m    938\u001b[0m \u001b[0;34m\u001b[0m\u001b[0m\n\u001b[1;32m    939\u001b[0m         \u001b[0mlogger\u001b[0m\u001b[0;34m.\u001b[0m\u001b[0minfo\u001b[0m\u001b[0;34m(\u001b[0m\u001b[0;34m\"Sampling inter-spacecraft beatnotes to THE grid\"\u001b[0m\u001b[0;34m)\u001b[0m\u001b[0;34m\u001b[0m\u001b[0;34m\u001b[0m\u001b[0m\n",
      "\u001b[0;32m~/Desktop/lisa/venv-lisa/lib/python3.8/site-packages/lisainstrument/instrument.py\u001b[0m in \u001b[0;36m<lambda>\u001b[0;34m(x, shift)\u001b[0m\n\u001b[1;32m    353\u001b[0m                 \u001b[0mlogger\u001b[0m\u001b[0;34m.\u001b[0m\u001b[0mdebug\u001b[0m\u001b[0;34m(\u001b[0m\u001b[0;34m\"Using Lagrange interpolation of order %s\"\u001b[0m\u001b[0;34m,\u001b[0m \u001b[0mself\u001b[0m\u001b[0;34m.\u001b[0m\u001b[0minterpolation_order\u001b[0m\u001b[0;34m)\u001b[0m\u001b[0;34m\u001b[0m\u001b[0;34m\u001b[0m\u001b[0m\n\u001b[1;32m    354\u001b[0m                 \u001b[0mself\u001b[0m\u001b[0;34m.\u001b[0m\u001b[0minterpolate\u001b[0m \u001b[0;34m=\u001b[0m \u001b[0;32mlambda\u001b[0m \u001b[0mx\u001b[0m\u001b[0;34m,\u001b[0m \u001b[0mshift\u001b[0m\u001b[0;34m:\u001b[0m \u001b[0mx\u001b[0m \u001b[0;32mif\u001b[0m \u001b[0mnumpy\u001b[0m\u001b[0;34m.\u001b[0m\u001b[0misscalar\u001b[0m\u001b[0;34m(\u001b[0m\u001b[0mx\u001b[0m\u001b[0;34m)\u001b[0m \u001b[0;32melse\u001b[0m\u001b[0;31m \u001b[0m\u001b[0;31m\\\u001b[0m\u001b[0;34m\u001b[0m\u001b[0;34m\u001b[0m\u001b[0m\n\u001b[0;32m--> 355\u001b[0;31m                     \u001b[0mdsp\u001b[0m\u001b[0;34m.\u001b[0m\u001b[0mtimeshift\u001b[0m\u001b[0;34m(\u001b[0m\u001b[0mx\u001b[0m\u001b[0;34m,\u001b[0m \u001b[0mshift\u001b[0m \u001b[0;34m*\u001b[0m \u001b[0mself\u001b[0m\u001b[0;34m.\u001b[0m\u001b[0mphysics_fs\u001b[0m\u001b[0;34m,\u001b[0m \u001b[0mself\u001b[0m\u001b[0;34m.\u001b[0m\u001b[0minterpolation_order\u001b[0m\u001b[0;34m)\u001b[0m\u001b[0;34m\u001b[0m\u001b[0;34m\u001b[0m\u001b[0m\n\u001b[0m\u001b[1;32m    356\u001b[0m             \u001b[0;32melse\u001b[0m\u001b[0;34m:\u001b[0m\u001b[0;34m\u001b[0m\u001b[0;34m\u001b[0m\u001b[0m\n\u001b[1;32m    357\u001b[0m                 \u001b[0;32mraise\u001b[0m \u001b[0mValueError\u001b[0m\u001b[0;34m(\u001b[0m\u001b[0;34mf\"invalid interpolation parameters '{interpolation}'\"\u001b[0m\u001b[0;34m)\u001b[0m\u001b[0;34m\u001b[0m\u001b[0;34m\u001b[0m\u001b[0m\n",
      "\u001b[0;32m~/Desktop/lisa/venv-lisa/lib/python3.8/site-packages/lisainstrument/dsp.py\u001b[0m in \u001b[0;36mtimeshift\u001b[0;34m(data, shifts, order)\u001b[0m\n\u001b[1;32m     65\u001b[0m     \u001b[0mi_min\u001b[0m \u001b[0;34m=\u001b[0m \u001b[0mnumpy\u001b[0m\u001b[0;34m.\u001b[0m\u001b[0mmin\u001b[0m\u001b[0;34m(\u001b[0m\u001b[0mshift_ints\u001b[0m \u001b[0;34m-\u001b[0m \u001b[0;34m(\u001b[0m\u001b[0mhalfp\u001b[0m \u001b[0;34m-\u001b[0m \u001b[0;36m1\u001b[0m\u001b[0;34m)\u001b[0m \u001b[0;34m+\u001b[0m \u001b[0mindices\u001b[0m\u001b[0;34m)\u001b[0m\u001b[0;34m\u001b[0m\u001b[0;34m\u001b[0m\u001b[0m\n\u001b[1;32m     66\u001b[0m     \u001b[0mi_max\u001b[0m \u001b[0;34m=\u001b[0m \u001b[0mnumpy\u001b[0m\u001b[0;34m.\u001b[0m\u001b[0mmax\u001b[0m\u001b[0;34m(\u001b[0m\u001b[0mshift_ints\u001b[0m \u001b[0;34m+\u001b[0m \u001b[0mhalfp\u001b[0m \u001b[0;34m+\u001b[0m \u001b[0mindices\u001b[0m \u001b[0;34m+\u001b[0m \u001b[0;36m1\u001b[0m\u001b[0;34m)\u001b[0m\u001b[0;34m\u001b[0m\u001b[0;34m\u001b[0m\u001b[0m\n\u001b[0;32m---> 67\u001b[0;31m     \u001b[0mcsr_ind\u001b[0m \u001b[0;34m=\u001b[0m \u001b[0mnumpy\u001b[0m\u001b[0;34m.\u001b[0m\u001b[0mtile\u001b[0m\u001b[0;34m(\u001b[0m\u001b[0mnumpy\u001b[0m\u001b[0;34m.\u001b[0m\u001b[0marange\u001b[0m\u001b[0;34m(\u001b[0m\u001b[0morder\u001b[0m \u001b[0;34m+\u001b[0m \u001b[0;36m1\u001b[0m\u001b[0;34m)\u001b[0m\u001b[0;34m,\u001b[0m \u001b[0mdata\u001b[0m\u001b[0;34m.\u001b[0m\u001b[0msize\u001b[0m\u001b[0;34m)\u001b[0m\u001b[0;31m \u001b[0m\u001b[0;31m\\\u001b[0m\u001b[0;34m\u001b[0m\u001b[0;34m\u001b[0m\u001b[0m\n\u001b[0m\u001b[1;32m     68\u001b[0m         \u001b[0;34m+\u001b[0m \u001b[0mnumpy\u001b[0m\u001b[0;34m.\u001b[0m\u001b[0mrepeat\u001b[0m\u001b[0;34m(\u001b[0m\u001b[0mshift_ints\u001b[0m \u001b[0;34m+\u001b[0m \u001b[0mindices\u001b[0m\u001b[0;34m,\u001b[0m \u001b[0morder\u001b[0m \u001b[0;34m+\u001b[0m \u001b[0;36m1\u001b[0m\u001b[0;34m)\u001b[0m \u001b[0;34m-\u001b[0m \u001b[0;34m(\u001b[0m\u001b[0mhalfp\u001b[0m \u001b[0;34m-\u001b[0m \u001b[0;36m1\u001b[0m\u001b[0;34m)\u001b[0m\u001b[0;34m\u001b[0m\u001b[0;34m\u001b[0m\u001b[0m\n\u001b[1;32m     69\u001b[0m     \u001b[0mcsr_ptr\u001b[0m \u001b[0;34m=\u001b[0m \u001b[0;34m(\u001b[0m\u001b[0morder\u001b[0m \u001b[0;34m+\u001b[0m \u001b[0;36m1\u001b[0m\u001b[0;34m)\u001b[0m \u001b[0;34m*\u001b[0m \u001b[0mnumpy\u001b[0m\u001b[0;34m.\u001b[0m\u001b[0marange\u001b[0m\u001b[0;34m(\u001b[0m\u001b[0mdata\u001b[0m\u001b[0;34m.\u001b[0m\u001b[0msize\u001b[0m \u001b[0;34m+\u001b[0m \u001b[0;36m1\u001b[0m\u001b[0;34m)\u001b[0m\u001b[0;34m\u001b[0m\u001b[0;34m\u001b[0m\u001b[0m\n",
      "\u001b[0;32m<__array_function__ internals>\u001b[0m in \u001b[0;36mtile\u001b[0;34m(*args, **kwargs)\u001b[0m\n",
      "\u001b[0;32m~/Desktop/lisa/venv-lisa/lib/python3.8/site-packages/numpy/lib/shape_base.py\u001b[0m in \u001b[0;36mtile\u001b[0;34m(A, reps)\u001b[0m\n\u001b[1;32m   1256\u001b[0m         \u001b[0;32mfor\u001b[0m \u001b[0mdim_in\u001b[0m\u001b[0;34m,\u001b[0m \u001b[0mnrep\u001b[0m \u001b[0;32min\u001b[0m \u001b[0mzip\u001b[0m\u001b[0;34m(\u001b[0m\u001b[0mc\u001b[0m\u001b[0;34m.\u001b[0m\u001b[0mshape\u001b[0m\u001b[0;34m,\u001b[0m \u001b[0mtup\u001b[0m\u001b[0;34m)\u001b[0m\u001b[0;34m:\u001b[0m\u001b[0;34m\u001b[0m\u001b[0;34m\u001b[0m\u001b[0m\n\u001b[1;32m   1257\u001b[0m             \u001b[0;32mif\u001b[0m \u001b[0mnrep\u001b[0m \u001b[0;34m!=\u001b[0m \u001b[0;36m1\u001b[0m\u001b[0;34m:\u001b[0m\u001b[0;34m\u001b[0m\u001b[0;34m\u001b[0m\u001b[0m\n\u001b[0;32m-> 1258\u001b[0;31m                 \u001b[0mc\u001b[0m \u001b[0;34m=\u001b[0m \u001b[0mc\u001b[0m\u001b[0;34m.\u001b[0m\u001b[0mreshape\u001b[0m\u001b[0;34m(\u001b[0m\u001b[0;34m-\u001b[0m\u001b[0;36m1\u001b[0m\u001b[0;34m,\u001b[0m \u001b[0mn\u001b[0m\u001b[0;34m)\u001b[0m\u001b[0;34m.\u001b[0m\u001b[0mrepeat\u001b[0m\u001b[0;34m(\u001b[0m\u001b[0mnrep\u001b[0m\u001b[0;34m,\u001b[0m \u001b[0;36m0\u001b[0m\u001b[0;34m)\u001b[0m\u001b[0;34m\u001b[0m\u001b[0;34m\u001b[0m\u001b[0m\n\u001b[0m\u001b[1;32m   1259\u001b[0m             \u001b[0mn\u001b[0m \u001b[0;34m//=\u001b[0m \u001b[0mdim_in\u001b[0m\u001b[0;34m\u001b[0m\u001b[0;34m\u001b[0m\u001b[0m\n\u001b[1;32m   1260\u001b[0m     \u001b[0;32mreturn\u001b[0m \u001b[0mc\u001b[0m\u001b[0;34m.\u001b[0m\u001b[0mreshape\u001b[0m\u001b[0;34m(\u001b[0m\u001b[0mshape_out\u001b[0m\u001b[0;34m)\u001b[0m\u001b[0;34m\u001b[0m\u001b[0;34m\u001b[0m\u001b[0m\n",
      "\u001b[0;31mKeyboardInterrupt\u001b[0m: "
     ]
    }
   ],
   "source": [
    "# Create 'realistic' orbit with signal and noise\n",
    "\n",
    "# Setup logger (sometimes useful to follow what's happening)\n",
    "# logging.basicConfig()\n",
    "# logging.getLogger('lisainstrument').setLevel(logging.INFO)\n",
    "\n",
    "t0 = time.time()\n",
    "sample_instru = Instrument(\n",
    "    size=size, # in samples\n",
    "    dt=1/fs,\n",
    "    aafilter=('kaiser', 240, 0.275*fs, 0.725*fs),\n",
    "    orbits=orbit_path, # realistic orbits (make sure it's consistent with glitches and GWs!)\n",
    "    gws=gw_path\n",
    ")\n",
    "# sample_instru.disable_all_noises()\n",
    "sample_instru.simulate()\n",
    "\n",
    "\n",
    "# Write out data to sample file, NOTE: Remember to remove the old sample file.\n",
    "if os.path.exists(sample_outputf+'.h5'):\n",
    "    os.remove(sample_outputf+'.h5')\n",
    "sample_instru.write(sample_outputf+'.h5')\n",
    "\n",
    "print (\"Time to run simulation = {:.2f} s / {:.3f} hrs\".format((time.time()-t0),(time.time()-t0)/3600))\n",
    "\n",
    "# Read data from LISA Instrument\n",
    "rawdata = Data.from_instrument(sample_outputf+'.h5')\n",
    "\n",
    "t0 = time.time()\n",
    "A = ortho.A2.build(**rawdata.args)(rawdata.measurements)[discard:]\n",
    "t1 = time.time()\n",
    "print (\"Time to build and run A2 = {:.2f} s / {:.3f} hrs\".format((t1-t0),(t1-t0)/3600))\n",
    "E = ortho.E2.build(**rawdata.args)(rawdata.measurements)[discard:]\n",
    "t2 = time.time()\n",
    "print (\"Time to build and run E2 = {:.2f} s / {:.3f} hrs\".format((t2-t1),(t2-t1)/3600))\n",
    "T = ortho.T2.build(**rawdata.args)(rawdata.measurements)[discard:]\n",
    "t3 = time.time()\n",
    "print (\"Time to build and run T2 = {:.2f} s / {:.3f} hrs\".format((t3-t2),(t3-t2)/3600))\n",
    "\n",
    "#t = sample_instru.t[discard:]\n",
    "t = (np.arange(0,len(A)+discard)/fs)[discard:]\n",
    "\n",
    "sdata = np.array([t,A,E,T])\n",
    "\n",
    "# Extract A, E, T data to speed up re-running code.\n",
    "filepath = sample_outputf+'.txt'\n",
    "filecontent = Table(sdata.T, names=['t','A','E','T'])\n",
    "ascii.write(filecontent, filepath, overwrite=True)\n",
    "\n",
    "t4 = time.time()\n",
    "print (\"Total time = {:.2f} s / {:.2f} hrs\".format(t4-t0,(t4-t0)/3600))"
   ]
  },
  {
   "cell_type": "code",
   "execution_count": null,
   "id": "e2872d4c-b856-4876-bc75-9dd72779d06e",
   "metadata": {},
   "outputs": [],
   "source": [
    "# Retreive A, E, T data\n",
    "rawdata = ascii.read(sample_outputf+'.txt')\n",
    "sdata = np.array([rawdata['t'],rawdata['A'],rawdata['E'],rawdata['T']])"
   ]
  },
  {
   "cell_type": "code",
   "execution_count": null,
   "id": "5316d6e7-6465-46df-a795-cbddeadf717d",
   "metadata": {},
   "outputs": [],
   "source": [
    "for i in range(3):\n",
    "    plt.plot(sdata[0]/day,sdata[i+1],label=rec[i],alpha=.5)\n",
    "plt.title('AET datastreams for '+str(duration/day)+'d simulation with all noises')\n",
    "plt.legend(loc=4)\n",
    "plt.xlabel('Time (d)')\n",
    "plt.ylabel('Amplitude')\n",
    "plt.show()"
   ]
  },
  {
   "cell_type": "code",
   "execution_count": null,
   "id": "69b6fc67-4864-4c7f-a8a4-33d2f4b37e8e",
   "metadata": {},
   "outputs": [],
   "source": [
    "def psd_func(data):\n",
    "    return scipy.signal.welch(data,fs=fs,window='nuttall',nperseg=len(data),detrend=False)\n",
    "\n",
    "# Create psd for data\n",
    "tmp = []\n",
    "for i in range(1,4):\n",
    "    ftmp, psdtmp = psd_func(sdata[i])\n",
    "    tmp.append(psdtmp)\n",
    "psd = np.array([ftmp,tmp[0],tmp[1],tmp[2]])\n",
    "\n",
    "# Create filtered data\n",
    "cutoff = 100\n",
    "tmp = []\n",
    "#coeffs = scipy.signal.firls(73,bands=[0,1,1.2,2],desired=[1,1,0,0],fs=fs)\n",
    "#coeffs = scipy.signal.firls(73, bands=[0,1e-2,3e-2,5e-2], desired=[1,1,0,0],fs=fs)\n",
    "\n",
    "# coeffs = scipy.signal.firls(73, bands=[0,1e-2,2e-2,fs/2], desired=[1,1,0,0],fs=fs)\n",
    "coeffs = scipy.signal.firls(73, bands=[0,8e-3,2e-2,fs/2], desired=[1,1,0,0],fs=fs)\n",
    "for i in range(1,4):\n",
    "    fdata_tmp = scipy.signal.filtfilt(coeffs,1., x=sdata[i],padlen=len(psd[0]))\n",
    "    tmp.append(fdata_tmp[cutoff:-cutoff])\n",
    "fsdata = np.array([sdata[0][cutoff:-cutoff],tmp[0],tmp[1],tmp[2]])\n",
    "\n",
    "# Create psd for filtered data\n",
    "tmp = []\n",
    "for i in range(1,4):\n",
    "    ftmp, psdtmp = psd_func(fsdata[i])\n",
    "    tmp.append(psdtmp)\n",
    "fpsd = np.array([ftmp,tmp[0],tmp[1],tmp[2]])\n",
    "\n",
    "fig, axs = plt.subplots(3, figsize=(24,9), sharex=True, gridspec_kw={'hspace':0})\n",
    "fig.suptitle(\"Filtered datastreams for 1 day simulation with all noises\")\n",
    "for i in range(3):\n",
    "    axs[i].plot(fsdata[0]/day,fsdata[i+1],label='Channel '+rec[i])\n",
    "    axs[i].legend(loc=1)\n",
    "    axs[i].set_ylabel('Amplitude')\n",
    "axs[i].set_xlabel('Time (d)')\n",
    "axs[i].set_xlim(.25,.28)\n",
    "plt.show()"
   ]
  },
  {
   "cell_type": "code",
   "execution_count": null,
   "id": "e4d50711-6a81-42a2-99ff-24cff377a491",
   "metadata": {},
   "outputs": [],
   "source": [
    "fig, axs = plt.subplots(3, figsize=(24,9), sharex=True, gridspec_kw={'hspace':0})\n",
    "for i in range(3):\n",
    "    for f in [f_true]:\n",
    "        if f == f_true:\n",
    "            axs[i].plot([f]*2,[1e-50,1e50],c='black',alpha=0.5,label=\"verbins\")\n",
    "        else:\n",
    "            axs[i].plot([f]*2,[1e-50,1e50],c='black',alpha=0.5)\n",
    "    axs[i].plot(psd[0],psd[i+1], label=rec[i]+' unfiltered',c='blue')\n",
    "    axs[i].plot(fpsd[0],fpsd[i+1], label=rec[i]+' filtered',c='red')\n",
    "    axs[i].legend()\n",
    "    axs[i].set_yscale('log')\n",
    "    axs[i].set_xscale('log')\n",
    "    axs[i].set_xlabel('Freq [Hz]')\n",
    "    axs[i].set_ylabel('ASD [Hz/sqrt(Hz)]?')\n",
    "    axs[i].set_ylim(ymin=0.1*np.min(fpsd[i+1]),ymax=10*np.max(psd[i+1]))\n",
    "    # axs[i].set_title(\"PSD of chanel \"+rec[i]+' filtered and unfiltered')\n",
    "    axs[i].grid()\n",
    "axs[0].set_title(\"PSD of chanels filtered and unfiltered\")\n",
    "axs[i].set_xlim(xmin=9e-5,xmax=fs/1.9)#,xmax=1e-2)\n",
    "plt.show()"
   ]
  },
  {
   "cell_type": "code",
   "execution_count": 7,
   "id": "abc37ff6-09ee-4432-b027-a9f96c2c87f4",
   "metadata": {},
   "outputs": [
    {
     "name": "stdout",
     "output_type": "stream",
     "text": [
      "0.0\n"
     ]
    }
   ],
   "source": [
    "import numpy as np\n",
    "N = 25\n",
    "print (np.pi*np.linspace(-1,1,N)[N//2])"
   ]
  },
  {
   "cell_type": "code",
   "execution_count": 12,
   "id": "7002a627-8360-40c3-bbf0-0a27033d4257",
   "metadata": {},
   "outputs": [
    {
     "name": "stdout",
     "output_type": "stream",
     "text": [
      "[[0.00521262 0.0306278  0.50499174 0.35000233 0.30968794]]\n",
      "[[0.00521262 0.0306278  0.50499174 0.35000233 0.30968794]\n",
      " [0.78524797 0.99576725 0.53702828 0.55625688 0.63732815]]\n",
      "[[0.00521262 0.0306278  0.50499174 0.35000233 0.30968794]\n",
      " [0.78524797 0.99576725 0.53702828 0.55625688 0.63732815]\n",
      " [0.90157882 0.67323496 0.89006021 0.83077938 0.17151751]]\n",
      "[[0.00521262 0.0306278  0.50499174 0.35000233 0.30968794]\n",
      " [0.78524797 0.99576725 0.53702828 0.55625688 0.63732815]\n",
      " [0.90157882 0.67323496 0.89006021 0.83077938 0.17151751]\n",
      " [0.8814751  0.949841   0.30783528 0.30855779 0.08985827]]\n",
      "[[0.00521262 0.0306278  0.50499174 0.35000233 0.30968794]\n",
      " [0.78524797 0.99576725 0.53702828 0.55625688 0.63732815]\n",
      " [0.90157882 0.67323496 0.89006021 0.83077938 0.17151751]\n",
      " [0.8814751  0.949841   0.30783528 0.30855779 0.08985827]\n",
      " [0.2555168  0.8435544  0.65961208 0.752488   0.14658511]]\n"
     ]
    }
   ],
   "source": [
    "array = [1,2,3,4,5]\n",
    "N = 5\n",
    "\n",
    "tmp = np.zeros((len(array),N))\n",
    "for i,ar in enumerate(array):\n",
    "    tmp_a = np.zeros(N)\n",
    "    for j in range(N):\n",
    "        tmp_a[j] = np.random.rand(1)\n",
    "    tmp[i] = tmp_a\n",
    "    \n",
    "    print (tmp[:i+1])"
   ]
  },
  {
   "cell_type": "code",
   "execution_count": null,
   "id": "16af0e7b-0653-4482-ad8f-c11e7deddbf2",
   "metadata": {},
   "outputs": [],
   "source": []
  }
 ],
 "metadata": {
  "kernelspec": {
   "display_name": "Python 3 (ipykernel)",
   "language": "python",
   "name": "python3"
  },
  "language_info": {
   "codemirror_mode": {
    "name": "ipython",
    "version": 3
   },
   "file_extension": ".py",
   "mimetype": "text/x-python",
   "name": "python",
   "nbconvert_exporter": "python",
   "pygments_lexer": "ipython3",
   "version": "3.8.10"
  }
 },
 "nbformat": 4,
 "nbformat_minor": 5
}
