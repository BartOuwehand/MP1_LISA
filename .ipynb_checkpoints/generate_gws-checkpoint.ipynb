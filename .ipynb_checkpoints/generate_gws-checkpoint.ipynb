{
 "cells": [
  {
   "cell_type": "code",
   "execution_count": 1,
   "id": "f41b49df-de6d-490f-883a-b062c7e1e82c",
   "metadata": {},
   "outputs": [],
   "source": [
    "import numpy as np\n",
    "import matplotlib.pyplot as plt\n",
    "%matplotlib inline\n",
    "\n",
    "import h5py\n",
    "\n",
    "from lisagwresponse import GalacticBinary\n"
   ]
  },
  {
   "cell_type": "code",
   "execution_count": 10,
   "id": "4584027c-c427-4a30-a98b-aafffbe75de5",
   "metadata": {},
   "outputs": [],
   "source": [
    "#orbit_path = '../orbits.h5'\n",
    "orbit_path = '../orbits/kep-1hz30d.h5'\n",
    "\n",
    "with h5py.File(orbit_path) as orbits:\n",
    "    orbits_t0 = orbits.attrs['t0']"
   ]
  },
  {
   "cell_type": "code",
   "execution_count": 11,
   "id": "52f33661-deba-4da6-ad4c-4121f9edbd46",
   "metadata": {},
   "outputs": [],
   "source": [
    "!rm gws.h5\n",
    "\n",
    "#source = GalacticBinary(A=6.4e-23, f=6.22e-3, orbits=orbit_path, t0=orbits_t0+10, gw_beta=0,gw_lambda=0) #HM Cnc\n",
    "source = GalacticBinary(A=1E-18, f=1E-3, orbits=orbit_path ,t0=orbits_t0 + 10, gw_beta=0, gw_lambda=0)\n",
    "#source = GalacticBinary(A=5E-20, f=1E-2, orbits=orbit_path ,t0=orbits_t0 + 10, gw_beta=0, gw_lambda=0)\n",
    "#source = GalacticBinary(A=1E-16, f=1E-2, orbits=orbit_path ,t0=orbits_t0 + 10, gw_beta=0, gw_lambda=0) #ridiculously loud binary\n",
    "\n",
    "source.write(\"gws.h5\")"
   ]
  },
  {
   "cell_type": "code",
   "execution_count": null,
   "id": "bbce6405-542e-47c7-b38b-67b2d0ef4e1d",
   "metadata": {},
   "outputs": [],
   "source": []
  }
 ],
 "metadata": {
  "kernelspec": {
   "display_name": "Python 3 (ipykernel)",
   "language": "python",
   "name": "python3"
  },
  "language_info": {
   "codemirror_mode": {
    "name": "ipython",
    "version": 3
   },
   "file_extension": ".py",
   "mimetype": "text/x-python",
   "name": "python",
   "nbconvert_exporter": "python",
   "pygments_lexer": "ipython3",
   "version": "3.8.10"
  }
 },
 "nbformat": 4,
 "nbformat_minor": 5
}
